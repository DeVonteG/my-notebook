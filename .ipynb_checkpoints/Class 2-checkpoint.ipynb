{
 "cells": [
  {
   "cell_type": "code",
   "execution_count": 4,
   "id": "ee16e84a",
   "metadata": {},
   "outputs": [],
   "source": [
    "# This is an example of a stack using built-in data structures\n",
    "# User-defined Data Structure (UDT)\n",
    "\n",
    "class Stack:\n",
    "    def __init__(self):\n",
    "        self.items = []\n",
    "        \n",
    "    def push(self, item):\n",
    "        self.items.append(item)\n",
    "        \n",
    "    def pop(self):\n",
    "        return self.items.pop()\n",
    "    \n",
    "    # helper methods\n",
    "    def is_empty(self):\n",
    "        return self.items == []\n",
    "    \n",
    "    def size(self):\n",
    "        return len(self.items)\n",
    "    \n",
    "    def peek(self):\n",
    "        return self.items[len(self.items)-1]\n",
    "    \n",
    "    "
   ]
  },
  {
   "cell_type": "markdown",
   "id": "14f4b5fc",
   "metadata": {},
   "source": [
    "# Problem 2 : Invert a string\n",
    "\n",
    "### Stacks naturally allow us to invert a sequence of elements if we sequentially push them onto our stack and sequentially pop them from our stack.\n",
    "\n",
    "#### Use our stack class above to invert a string such that:\n",
    "\n",
    "```\n",
    "reverse(\"DeVonte\") returns \"etnoVeD\"\n",
    "reverse('racecar') returns 'racecar'\n",
    "reverse ('AbCdE') returns 'EdCbA'\n",
    "```"
   ]
  },
  {
   "cell_type": "code",
   "execution_count": 9,
   "id": "52595d9d",
   "metadata": {},
   "outputs": [
    {
     "name": "stdout",
     "output_type": "stream",
     "text": [
      "etnoVeD\n",
      "sraC\n"
     ]
    }
   ],
   "source": [
    "def reverse(mystring):\n",
    "    stack = Stack()\n",
    "    content = \"\"\n",
    "    for letters in mystring:\n",
    "        stack.push(letters)\n",
    "    while stack.is_empty() != True:\n",
    "        letter =  stack.pop()\n",
    "        content = content + letter\n",
    "    return content\n",
    "\n",
    "print(reverse('DeVonte'))\n",
    "print(reverse('Cars'))"
   ]
  },
  {
   "cell_type": "code",
   "execution_count": 5,
   "id": "a29161f3",
   "metadata": {},
   "outputs": [
    {
     "name": "stdout",
     "output_type": "stream",
     "text": [
      "etnoVeD\n"
     ]
    }
   ],
   "source": [
    "# this function must use our Stack class above to invert a string.\n",
    "\n",
    "def reverse(mystring):\n",
    "    stack = Stack() #call an object into your class\n",
    "    example = \"\"\n",
    "    for letter in mystring:\n",
    "        stack.push(letter)\n",
    "    while stack.is_empty() !=True:\n",
    "        characters = stack.pop()\n",
    "        example = example + characters\n",
    "    return example\n",
    "\n",
    "print(reverse('DeVonte'))\n",
    "        \n",
    "# push (\"DeVonte\") into a string then pop string to be return reversed\n",
    "\n"
   ]
  },
  {
   "cell_type": "code",
   "execution_count": 10,
   "id": "490949de",
   "metadata": {},
   "outputs": [],
   "source": [
    "class Queue:\n",
    "    def __init__(self):\n",
    "        self.items = []\n",
    "        \n",
    "    def enqueue(self, item):\n",
    "        self.items.insert(0, item)\n",
    "        \n",
    "    def dequeue(self):\n",
    "        return self.items.pop()\n",
    "    \n",
    "    def is_empty(self):\n",
    "        return self.items == []\n",
    "            \n",
    "    def size(self):\n",
    "        return len(self.items)"
   ]
  },
  {
   "cell_type": "code",
   "execution_count": 15,
   "id": "3a121585",
   "metadata": {},
   "outputs": [],
   "source": [
    "from random import randint\n",
    "from time import sleep\n",
    "\n",
    "def square_queue(elements):\n",
    "    queue = Queue()\n",
    "    for element in elements:\n",
    "        print('Adding %s to our queue.' % element)\n",
    "        queue.enqueue(element)\n",
    "    while not queue.is_empty():\n",
    "        datum = queue.dequeue()\n",
    "        sleep(randint(1,3))\n",
    "        print('%s squared is %s' % (datum,datum**2))"
   ]
  },
  {
   "cell_type": "code",
   "execution_count": 16,
   "id": "00a590d9",
   "metadata": {},
   "outputs": [
    {
     "name": "stdout",
     "output_type": "stream",
     "text": [
      "Adding 1 to our queue.\n",
      "Adding 2 to our queue.\n",
      "Adding 3 to our queue.\n",
      "Adding 4 to our queue.\n",
      "Adding 5 to our queue.\n",
      "Adding 6 to our queue.\n",
      "1 squared is 1\n",
      "2 squared is 4\n",
      "3 squared is 9\n",
      "4 squared is 16\n",
      "5 squared is 25\n",
      "6 squared is 36\n"
     ]
    }
   ],
   "source": [
    "square_queue([1,2,3,4,5,6])"
   ]
  },
  {
   "cell_type": "code",
   "execution_count": 17,
   "id": "da7034f5",
   "metadata": {},
   "outputs": [
    {
     "name": "stdout",
     "output_type": "stream",
     "text": [
      "5\n"
     ]
    }
   ],
   "source": [
    "# primary data types integers, floats, boolean  (pass by value)\n",
    "\n",
    "x = 5\n",
    "y = x\n",
    "x +=1\n",
    "\n",
    "print (y) # this will pass 5... passing the value"
   ]
  },
  {
   "cell_type": "code",
   "execution_count": 20,
   "id": "fb7584be",
   "metadata": {},
   "outputs": [
    {
     "name": "stdout",
     "output_type": "stream",
     "text": [
      "[1, 2, 3, 4]\n"
     ]
    }
   ],
   "source": [
    "# Pass by reference\n",
    "\n",
    "x = [1,2,3]\n",
    "y = x\n",
    "x.append(4)\n",
    "\n",
    "print (y) #should print [1,2,3,4]"
   ]
  },
  {
   "cell_type": "code",
   "execution_count": 23,
   "id": "66fd6b0b",
   "metadata": {},
   "outputs": [],
   "source": [
    "class Node:\n",
    "    def __init__(self,data):\n",
    "        self.data = data\n",
    "        self.above = None\n",
    "    "
   ]
  },
  {
   "cell_type": "code",
   "execution_count": 22,
   "id": "3972861d",
   "metadata": {},
   "outputs": [],
   "source": [
    "class Stack:\n",
    "    def __init__(self):\n",
    "        self.base = None\n",
    "        \n",
    "    def push(self, item):\n",
    "        if not self.base:\n",
    "            self.base = Node(item)\n",
    "        else:\n",
    "            current = self.base\n",
    "            while current.above: # same as while current.above != None\n",
    "                current =  current.above\n",
    "            current.above = Node(item)\n",
    "    \n",
    "   \n",
    "    def pop(self):\n",
    "        pass\n",
    "    \n",
    "    \n",
    "    def is_empty(self):\n",
    "        if not self.base:\n",
    "            return True\n",
    "        return False\n",
    "    \n",
    "    def size(self):\n",
    "        pass\n",
    "    \n",
    "    def peek(self):\n",
    "        pass"
   ]
  },
  {
   "cell_type": "code",
   "execution_count": null,
   "id": "a8c8eb77",
   "metadata": {},
   "outputs": [],
   "source": []
  }
 ],
 "metadata": {
  "kernelspec": {
   "display_name": "Python 3 (ipykernel)",
   "language": "python",
   "name": "python3"
  },
  "language_info": {
   "codemirror_mode": {
    "name": "ipython",
    "version": 3
   },
   "file_extension": ".py",
   "mimetype": "text/x-python",
   "name": "python",
   "nbconvert_exporter": "python",
   "pygments_lexer": "ipython3",
   "version": "3.8.10"
  }
 },
 "nbformat": 4,
 "nbformat_minor": 5
}
