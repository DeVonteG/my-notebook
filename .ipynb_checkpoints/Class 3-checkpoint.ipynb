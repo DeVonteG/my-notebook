{
 "cells": [
  {
   "cell_type": "code",
   "execution_count": 15,
   "id": "d99c14b6",
   "metadata": {},
   "outputs": [],
   "source": [
    "class Node:\n",
    "    def __init__(self, data):\n",
    "        self.data = data\n",
    "        self.above = None\n",
    "        \n",
    "\n",
    "class Stack:\n",
    "    def __init__(self):\n",
    "        self.items = []\n",
    "        \n",
    "    def push(self, item):  #helps add item to data structure\n",
    "        if not self.base:\n",
    "            self.base = Node(item)\n",
    "        else:\n",
    "            current = self.base\n",
    "            while current.above:\n",
    "                current = current.above\n",
    "            current.above = Node(item)\n",
    "        \n",
    "    def pop(self):  # returns top most value\n",
    "        if not self.base:\n",
    "            raise Error\n",
    "        if not self.base.above:\n",
    "            datum = self.base.data\n",
    "            self.base = None\n",
    "            return datum\n",
    "        current = self.base\n",
    "        prev = None\n",
    "        while current.above:\n",
    "            prev = current\n",
    "            current = current.above\n",
    "        datum= current.data\n",
    "        prev.above = None\n",
    "        return datum\n",
    "        \n",
    "    \n",
    "#     # helper methods\n",
    "    def is_empty(self):\n",
    "        if not serlf.base:\n",
    "            return True\n",
    "        return False\n",
    "    \n",
    "#     def size(self):\n",
    "#         return len(self.items)\n",
    "    \n",
    "#     def peek(self):\n",
    "#         return self.items[len(self.items)-1]\n",
    "    "
   ]
  },
  {
   "cell_type": "code",
   "execution_count": null,
   "id": "8c9ff8d5",
   "metadata": {},
   "outputs": [],
   "source": [
    "def invert(string):\n",
    "    stack = Stack()\n",
    "    out = ''\n",
    "    for i in string:\n",
    "        stack.push(i)\n",
    "    while not stack.is_empty():\n",
    "        out += stack.pop()\n",
    "    return out"
   ]
  },
  {
   "cell_type": "code",
   "execution_count": 1,
   "id": "568c083f",
   "metadata": {},
   "outputs": [],
   "source": [
    "# when running pop on stack with no elements in stack\n",
    "\n",
    "#\n",
    "\n",
    "def pop(self, item)\n",
    " \n",
    "\n",
    "\n",
    "#if there are no items to pop (remove) from stack return Empty stack exception\n",
    "\n",
    "#  add items to a stack\n",
    "# if there one item in stack  \n",
    "\n",
    "# if multiple nodes in stack, stack pops(retrieves)from top most node(element)\n",
    "    "
   ]
  },
  {
   "cell_type": "code",
   "execution_count": 14,
   "id": "bf87269c",
   "metadata": {},
   "outputs": [
    {
     "name": "stdout",
     "output_type": "stream",
     "text": [
      "['a', 'b', 'c', '2', '3']\n"
     ]
    }
   ],
   "source": [
    "stack = []\n",
    "\n",
    "stack.append(\"a\")\n",
    "stack.append(\"b\")\n",
    "stack.append(\"c\")\n",
    "stack.append(\"2\")\n",
    "stack.append(\"3\")\n",
    "\n",
    "print (stack)"
   ]
  },
  {
   "cell_type": "code",
   "execution_count": null,
   "id": "0f0cb23d",
   "metadata": {},
   "outputs": [],
   "source": []
  }
 ],
 "metadata": {
  "kernelspec": {
   "display_name": "Python 3 (ipykernel)",
   "language": "python",
   "name": "python3"
  },
  "language_info": {
   "codemirror_mode": {
    "name": "ipython",
    "version": 3
   },
   "file_extension": ".py",
   "mimetype": "text/x-python",
   "name": "python",
   "nbconvert_exporter": "python",
   "pygments_lexer": "ipython3",
   "version": "3.8.10"
  }
 },
 "nbformat": 4,
 "nbformat_minor": 5
}
