{
 "cells": [
  {
   "cell_type": "code",
   "execution_count": 1,
   "id": "7b263b5c",
   "metadata": {},
   "outputs": [],
   "source": [
    "#  define if Anagram with string params\n",
    "## determine if length of string is not equal to length of string b\n",
    "### return false if not equal\n",
    "\n",
    " \n",
    "\n",
    "# push dictionary into empty dictionary\n",
    "\n",
    "# for loop in range of length of string\n",
    "## if string  in dictionary.key()\n",
    "### dictionary with a param of string +=1\n",
    "\n",
    "# else repeat\n",
    "\n",
    "# return if dictionaries are equal\n",
    "\n",
    "\n",
    "def is_anagram(string1, string2):\n",
    "    if len(string1) != len(string2):\n",
    "        return False\n",
    "    dict1 = {}\n",
    "    dict2 = {}\n",
    "    \n",
    "    for i in range(len(string1)):\n",
    "        if string1[i] in dict1.keys():\n",
    "            dict1[string1[i]] += 1\n",
    "        else:\n",
    "            dict1[string1[i]] = 1\n",
    "        if string2[i] in dict2.keys():\n",
    "            dict2[string2[i]] += 1\n",
    "        else:\n",
    "            dict2[string2[i]] = 1\n",
    "    return dict1 == dict2"
   ]
  },
  {
   "cell_type": "code",
   "execution_count": 5,
   "id": "8827d8cd",
   "metadata": {},
   "outputs": [
    {
     "data": {
      "text/plain": [
       "True"
      ]
     },
     "execution_count": 5,
     "metadata": {},
     "output_type": "execute_result"
    }
   ],
   "source": [
    "is_anagram('Iamlordvoldemort', 'tommarvolorIddle')"
   ]
  },
  {
   "cell_type": "code",
   "execution_count": 10,
   "id": "4f6747f0",
   "metadata": {},
   "outputs": [],
   "source": [
    "def is_anagram(string1, string2):\n",
    "    if len(string1.lower().replace()) != len(string2.lower()):\n",
    "        return False\n",
    "    dict1 = {}\n",
    "    dict2 = {}\n",
    "    \n",
    "    for i in range(len(string1.lower())):\n",
    "        if string1.lower()[i] in dict1.keys():\n",
    "            dict1[string1.lower()[i]] += 1\n",
    "        else:\n",
    "            dict1[string1.lower()[i]] = 1\n",
    "        if string2.lower()[i] in dict2.keys():\n",
    "            dict2[string2.lower()[i]] += 1\n",
    "        else:\n",
    "            dict2[string2.lower()[i]] = 1\n",
    "    return dict1 == dict2\n",
    "    "
   ]
  },
  {
   "cell_type": "code",
   "execution_count": 15,
   "id": "3198148e",
   "metadata": {},
   "outputs": [
    {
     "data": {
      "text/plain": [
       "False"
      ]
     },
     "execution_count": 15,
     "metadata": {},
     "output_type": "execute_result"
    }
   ],
   "source": [
    "is_anagram('I am lord Voldemort', 'Tom marvoloriddle')"
   ]
  },
  {
   "cell_type": "code",
   "execution_count": null,
   "id": "a8eba8e0",
   "metadata": {},
   "outputs": [],
   "source": [
    "is_anagram\n",
    "\n",
    "print (is_anagram)"
   ]
  },
  {
   "cell_type": "code",
   "execution_count": 16,
   "id": "36254928",
   "metadata": {},
   "outputs": [],
   "source": [
    "def remove(space):\n",
    "    return space.replace(\" \",\"\")"
   ]
  },
  {
   "cell_type": "code",
   "execution_count": 17,
   "id": "7a7fd194",
   "metadata": {},
   "outputs": [
    {
     "name": "stdout",
     "output_type": "stream",
     "text": [
      "LOVE\n"
     ]
    }
   ],
   "source": [
    "space = 'L O V E'\n",
    "print(remove(space))"
   ]
  },
  {
   "cell_type": "code",
   "execution_count": 24,
   "id": "c0a90e76",
   "metadata": {},
   "outputs": [],
   "source": [
    "#  define if Anagram with string params\n",
    "## determine if length of string is not equal to length of string b\n",
    "### add .lower to negate\n",
    "#### return false if not equal\n",
    "\n",
    " \n",
    "\n",
    "# push dictionary into empty dictionary\n",
    "\n",
    "# for loop in range of length of string\n",
    "## if string  in dictionary.key()\n",
    "### dictionary with a param of string +=1\n",
    "\n",
    "# else repeat\n",
    "\n",
    "# return if dictionaries are equal\n",
    "\n",
    "\n",
    "def is_anagram(string1, string2):\n",
    "    if len(string1.lower().replace(\" \",\"\")) != len(string2.lower().replace(\" \",\"\")):\n",
    "        return False\n",
    "    dict1 = {}\n",
    "    dict2 = {}\n",
    "    \n",
    "    for i in range(len(string1.lower())):\n",
    "        if string1.lower()[i] in dict1.keys():\n",
    "            dict1[string1.lower()[i]] += 1\n",
    "        else:\n",
    "            dict1[string1.lower()[i]] = 1\n",
    "        if string2.lower()[i] in dict2.keys():\n",
    "            dict2[string2.lower()[i]] += 1\n",
    "        else:\n",
    "            dict2[string2.lower()[i]] = 1\n",
    "    return dict1 == dict2\n",
    "    "
   ]
  },
  {
   "cell_type": "code",
   "execution_count": 25,
   "id": "4c8fe95d",
   "metadata": {},
   "outputs": [
    {
     "ename": "IndexError",
     "evalue": "string index out of range",
     "output_type": "error",
     "traceback": [
      "\u001b[0;31m---------------------------------------------------------------------------\u001b[0m",
      "\u001b[0;31mIndexError\u001b[0m                                Traceback (most recent call last)",
      "Input \u001b[0;32mIn [25]\u001b[0m, in \u001b[0;36m<cell line: 1>\u001b[0;34m()\u001b[0m\n\u001b[0;32m----> 1\u001b[0m \u001b[43mis_anagram\u001b[49m\u001b[43m(\u001b[49m\u001b[38;5;124;43m'\u001b[39;49m\u001b[38;5;124;43mI am lord Voldemort\u001b[39;49m\u001b[38;5;124;43m'\u001b[39;49m\u001b[43m,\u001b[49m\u001b[43m \u001b[49m\u001b[38;5;124;43m'\u001b[39;49m\u001b[38;5;124;43mTom Marvolo Riddle\u001b[39;49m\u001b[38;5;124;43m'\u001b[39;49m\u001b[43m)\u001b[49m\n",
      "Input \u001b[0;32mIn [24]\u001b[0m, in \u001b[0;36mis_anagram\u001b[0;34m(string1, string2)\u001b[0m\n\u001b[1;32m     28\u001b[0m \u001b[38;5;28;01melse\u001b[39;00m:\n\u001b[1;32m     29\u001b[0m     dict1[string1\u001b[38;5;241m.\u001b[39mlower()[i]] \u001b[38;5;241m=\u001b[39m \u001b[38;5;241m1\u001b[39m\n\u001b[0;32m---> 30\u001b[0m \u001b[38;5;28;01mif\u001b[39;00m \u001b[43mstring2\u001b[49m\u001b[38;5;241;43m.\u001b[39;49m\u001b[43mlower\u001b[49m\u001b[43m(\u001b[49m\u001b[43m)\u001b[49m\u001b[43m[\u001b[49m\u001b[43mi\u001b[49m\u001b[43m]\u001b[49m \u001b[38;5;129;01min\u001b[39;00m dict2\u001b[38;5;241m.\u001b[39mkeys():\n\u001b[1;32m     31\u001b[0m     dict2[string2\u001b[38;5;241m.\u001b[39mlower()[i]] \u001b[38;5;241m+\u001b[39m\u001b[38;5;241m=\u001b[39m \u001b[38;5;241m1\u001b[39m\n\u001b[1;32m     32\u001b[0m \u001b[38;5;28;01melse\u001b[39;00m:\n",
      "\u001b[0;31mIndexError\u001b[0m: string index out of range"
     ]
    }
   ],
   "source": [
    "is_anagram('I am lord Voldemort', 'Tom Marvolo Riddle')"
   ]
  },
  {
   "cell_type": "code",
   "execution_count": 28,
   "id": "219a9d94",
   "metadata": {},
   "outputs": [
    {
     "ename": "NameError",
     "evalue": "name 'string1' is not defined",
     "output_type": "error",
     "traceback": [
      "\u001b[0;31m---------------------------------------------------------------------------\u001b[0m",
      "\u001b[0;31mNameError\u001b[0m                                 Traceback (most recent call last)",
      "Input \u001b[0;32mIn [28]\u001b[0m, in \u001b[0;36m<cell line: 18>\u001b[0;34m()\u001b[0m\n\u001b[1;32m      1\u001b[0m \u001b[38;5;66;03m#  define if Anagram with string params\u001b[39;00m\n\u001b[1;32m      2\u001b[0m \u001b[38;5;66;03m## determine if length of string is not equal to length of string b\u001b[39;00m\n\u001b[1;32m      3\u001b[0m \u001b[38;5;66;03m### add .lower to negate\u001b[39;00m\n\u001b[0;32m   (...)\u001b[0m\n\u001b[1;32m     15\u001b[0m \n\u001b[1;32m     16\u001b[0m \u001b[38;5;66;03m# return if dictionaries are equal\u001b[39;00m\n\u001b[0;32m---> 18\u001b[0m string1 \u001b[38;5;241m=\u001b[39m \u001b[43mstring1\u001b[49m\u001b[38;5;241m.\u001b[39mreplace(\u001b[38;5;124m\"\u001b[39m\u001b[38;5;124m \u001b[39m\u001b[38;5;124m\"\u001b[39m,\u001b[38;5;124m\"\u001b[39m\u001b[38;5;124m\"\u001b[39m)   \n\u001b[1;32m     19\u001b[0m string2 \u001b[38;5;241m=\u001b[39m string2\u001b[38;5;241m.\u001b[39mreplace(\u001b[38;5;124m\"\u001b[39m\u001b[38;5;124m \u001b[39m\u001b[38;5;124m\"\u001b[39m,\u001b[38;5;124m\"\u001b[39m\u001b[38;5;124m\"\u001b[39m)    \n\u001b[1;32m     21\u001b[0m \u001b[38;5;28;01mdef\u001b[39;00m \u001b[38;5;21mis_anagram\u001b[39m(string1, string2):\n",
      "\u001b[0;31mNameError\u001b[0m: name 'string1' is not defined"
     ]
    }
   ],
   "source": [
    "#  define if Anagram with string params\n",
    "## determine if length of string is not equal to length of string b\n",
    "### add .lower to negate\n",
    "#### return false if not equal\n",
    "\n",
    " \n",
    "\n",
    "# push dictionary into empty dictionary\n",
    "\n",
    "# for loop in range of length of string\n",
    "## if string  in dictionary.key()\n",
    "### dictionary with a param of string +=1\n",
    "\n",
    "# else repeat\n",
    "\n",
    "# return if dictionaries are equal\n",
    "\n",
    "string1 = string1.replace(\" \",\"\")   \n",
    "string2 = string2.replace(\" \",\"\")    \n",
    "\n",
    "def is_anagram(string1, string2):\n",
    "    input1 = string1.replace(\" \", \"\")\n",
    "    input2 = string2.replace(\" \", \"\")\n",
    "    if len(string1.lower()) != len(string2.lower()):\n",
    "        return False\n",
    "    dict1 = {}\n",
    "    dict2 = {}\n",
    "    \n",
    "    for i in range (len(string1.lower())):\n",
    "        if string1.lower()[i] in dict1.keys():\n",
    "            dict1[string1.lower()[i]] += 1\n",
    "        else:\n",
    "            dict[string1.lower()[i]] = 1\n",
    "        if string2.lower()[i] in dict2.keys():\n",
    "            dict2[string2.lower()[i]] += 1\n",
    "        else:\n",
    "            dict2[string2.lower()[i]] = 1\n",
    "    return dict1 == dict2"
   ]
  },
  {
   "cell_type": "code",
   "execution_count": 10,
   "id": "2f6bb1f7",
   "metadata": {},
   "outputs": [],
   "source": [
    "#  define if Anagram with string params\n",
    "\n",
    "### add .lower to variable to negate case\n",
    "### add .replace() to variable to negate spaces \n",
    "\n",
    "## determine if length of string is not equal to length of string b\n",
    "\n",
    "#### return false if not equal\n",
    "\n",
    " \n",
    "\n",
    "# push dictionary into empty dictionary\n",
    "\n",
    "# for loop in range of length of string\n",
    "## if string  in dictionary.key()\n",
    "### dictionary with a param of string +=1\n",
    "\n",
    "# else repeat\n",
    "\n",
    "# return if dictionaries are equal\n",
    "\n",
    "def is_anagram(input1, input2):\n",
    "    lower1 = input1.lower()\n",
    "    lower2 = input2.lower()\n",
    "    string1 = lower1.replace(\" \",\"\")\n",
    "    string2 = lower2.replace(\" \",\"\")\n",
    "    \n",
    "    if len(string1) != len(string2):\n",
    "        return False\n",
    "    ana1 = {}\n",
    "    ana2 = {}\n",
    "    \n",
    "    for i in range(len(string1)):\n",
    "        if string1[i] in ana1.keys():\n",
    "            ana1[string1[i]] += 1\n",
    "        else:\n",
    "            ana1[string1[i]] = 1\n",
    "        if string2[i] in ana2.keys():\n",
    "            ana2[string2[i]] += 1\n",
    "        else:\n",
    "            ana2[string2[i]] = 1\n",
    "        \n",
    "    return ana1 == ana2"
   ]
  },
  {
   "cell_type": "code",
   "execution_count": 11,
   "id": "65fa47c9",
   "metadata": {},
   "outputs": [
    {
     "data": {
      "text/plain": [
       "False"
      ]
     },
     "execution_count": 11,
     "metadata": {},
     "output_type": "execute_result"
    }
   ],
   "source": [
    "is_anagram('bat','cat')"
   ]
  },
  {
   "cell_type": "code",
   "execution_count": 12,
   "id": "ac99cfb4",
   "metadata": {},
   "outputs": [
    {
     "data": {
      "text/plain": [
       "True"
      ]
     },
     "execution_count": 12,
     "metadata": {},
     "output_type": "execute_result"
    }
   ],
   "source": [
    "is_anagram('bat', 'tab')"
   ]
  },
  {
   "cell_type": "code",
   "execution_count": 13,
   "id": "0d6934c7",
   "metadata": {},
   "outputs": [
    {
     "data": {
      "text/plain": [
       "True"
      ]
     },
     "execution_count": 13,
     "metadata": {},
     "output_type": "execute_result"
    }
   ],
   "source": [
    "is_anagram(\"I am lord voldemort\", \"Tom Marvolo Riddle\" )"
   ]
  },
  {
   "cell_type": "code",
   "execution_count": null,
   "id": "55a55ef9",
   "metadata": {},
   "outputs": [],
   "source": []
  }
 ],
 "metadata": {
  "kernelspec": {
   "display_name": "Python 3 (ipykernel)",
   "language": "python",
   "name": "python3"
  },
  "language_info": {
   "codemirror_mode": {
    "name": "ipython",
    "version": 3
   },
   "file_extension": ".py",
   "mimetype": "text/x-python",
   "name": "python",
   "nbconvert_exporter": "python",
   "pygments_lexer": "ipython3",
   "version": "3.8.10"
  }
 },
 "nbformat": 4,
 "nbformat_minor": 5
}
