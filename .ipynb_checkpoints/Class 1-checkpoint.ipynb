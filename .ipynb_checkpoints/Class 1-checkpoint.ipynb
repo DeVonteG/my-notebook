{
 "cells": [
  {
   "cell_type": "code",
   "execution_count": 1,
   "id": "5cc1264a",
   "metadata": {},
   "outputs": [
    {
     "name": "stdout",
     "output_type": "stream",
     "text": [
      "H\n",
      "e\n",
      "l\n",
      "l\n",
      "o\n",
      ",\n",
      " \n",
      "W\n",
      "o\n",
      "r\n",
      "l\n",
      "d\n"
     ]
    }
   ],
   "source": [
    "for letter in \"Hello, World\":\n",
    "    print(letter)\n",
    "    "
   ]
  },
  {
   "cell_type": "code",
   "execution_count": 13,
   "id": "bb5919a0",
   "metadata": {},
   "outputs": [
    {
     "name": "stdout",
     "output_type": "stream",
     "text": [
      "H\n",
      "e\n",
      "l\n",
      "l\n",
      "o\n",
      ",\n",
      " \n",
      "A\n",
      "l\n",
      "l\n"
     ]
    }
   ],
   "source": [
    "for character in 'Hello, All':\n",
    "    print(character)"
   ]
  },
  {
   "cell_type": "markdown",
   "id": "3021179a",
   "metadata": {},
   "source": [
    "# Problem 1\n",
    "\n",
    "### Given two strings (string_a and string_b)  let's check whether or not these are anagrams of each other given the following criteria:\n",
    "\n",
    "#### Two strings are anagrams of each other if all conditions below are met:\n",
    "1. They must be exactly of the same length.\n",
    "2. They must use the exact same characters (no more, no less).\n",
    "\n",
    "` Example: cars and scar, heart and earth, etc.`"
   ]
  },
  {
   "cell_type": "code",
   "execution_count": null,
   "id": "4dd1d90b",
   "metadata": {},
   "outputs": [],
   "source": [
    "# Instructions: populate the function below, so that it returns True if the parameters are anagrams,\n",
    "# Flase Otherwise.\n",
    "\n",
    "def are_anagrams(string_a, string_b):\n",
    "    pass # remove pass when youve implemented the solution\n",
    "\n",
    "#without syntactic sugar"
   ]
  },
  {
   "cell_type": "code",
   "execution_count": null,
   "id": "d20af4ef",
   "metadata": {},
   "outputs": [],
   "source": [
    "# BAD SOLUTION\n",
    "\n",
    "def bad_are_anagrams(string_a, string_b):\n",
    "    return sorted(string_a) == sorted(string_b)"
   ]
  },
  {
   "cell_type": "code",
   "execution_count": null,
   "id": "0f874f1f",
   "metadata": {},
   "outputs": [],
   "source": [
    "bad_are_anagrams(\"cars\", 'scar')"
   ]
  },
  {
   "cell_type": "code",
   "execution_count": 11,
   "id": "ce29c829",
   "metadata": {},
   "outputs": [
    {
     "ename": "SyntaxError",
     "evalue": "invalid syntax (2688693555.py, line 3)",
     "output_type": "error",
     "traceback": [
      "\u001b[0;36m  Input \u001b[0;32mIn [11]\u001b[0;36m\u001b[0m\n\u001b[0;31m    return = False\u001b[0m\n\u001b[0m           ^\u001b[0m\n\u001b[0;31mSyntaxError\u001b[0m\u001b[0;31m:\u001b[0m invalid syntax\n"
     ]
    }
   ],
   "source": [
    "\n",
    "\n",
    "def is_anagram(string_a, string_b):  \n",
    "    if len(string_a) != len(string_b):\n",
    "        return = False\n",
    "    dict_a = {}\n",
    "    dict_b = {}\n",
    "    for i in range (len(string_a)):\n",
    "        if string_a[i] in dict_a.keys():\n",
    "            dict_a[string_a[i]] += 1\n",
    "        else:\n",
    "            dict_a[string_a[i]] = 1\n",
    "        if string_b[i] in dict_b.keys():\n",
    "            dict_b[string_b[i]] += 1\n",
    "        else:\n",
    "            dict_b[string_b[i]] = 1\n",
    "    return dict_a == dict_b\n",
    "            \n",
    "    \n",
    "        \n",
    "    \n",
    "# count how many times each character appears in each word string (send values to dictionary) \n",
    "# verify string has equal count of each character type\n",
    "\n",
    "# determine if string_a length not equal (!=) to string_b length\n",
    "    "
   ]
  },
  {
   "cell_type": "code",
   "execution_count": null,
   "id": "f29a674c",
   "metadata": {},
   "outputs": [],
   "source": [
    "# determine if string a and string b have the same length\n",
    "# determine if characters of string a are equal to string b\n",
    "#count number of times each character appears in string a & string b\n",
    "# determine if string a is == to string b\n"
   ]
  },
  {
   "cell_type": "code",
   "execution_count": 8,
   "id": "a55e7144",
   "metadata": {},
   "outputs": [
    {
     "ename": "SyntaxError",
     "evalue": "invalid syntax (3470313999.py, line 1)",
     "output_type": "error",
     "traceback": [
      "\u001b[0;36m  Input \u001b[0;32mIn [8]\u001b[0;36m\u001b[0m\n\u001b[0;31m    is_anagram ('bat', 'tab'):\u001b[0m\n\u001b[0m                              ^\u001b[0m\n\u001b[0;31mSyntaxError\u001b[0m\u001b[0;31m:\u001b[0m invalid syntax\n"
     ]
    }
   ],
   "source": [
    "is_anagram ('bat', 'tab'):"
   ]
  },
  {
   "cell_type": "code",
   "execution_count": 9,
   "id": "e4768b1b",
   "metadata": {},
   "outputs": [],
   "source": [
    "# The best case time complexity will be O(1) AKA constant time\n",
    "# The worst case time complextity will be O(n) AKA linear time"
   ]
  },
  {
   "cell_type": "code",
   "execution_count": null,
   "id": "aca9dea8",
   "metadata": {},
   "outputs": [],
   "source": []
  }
 ],
 "metadata": {
  "kernelspec": {
   "display_name": "Python 3 (ipykernel)",
   "language": "python",
   "name": "python3"
  },
  "language_info": {
   "codemirror_mode": {
    "name": "ipython",
    "version": 3
   },
   "file_extension": ".py",
   "mimetype": "text/x-python",
   "name": "python",
   "nbconvert_exporter": "python",
   "pygments_lexer": "ipython3",
   "version": "3.8.10"
  }
 },
 "nbformat": 4,
 "nbformat_minor": 5
}
