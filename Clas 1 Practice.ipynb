{
 "cells": [
  {
   "cell_type": "code",
   "execution_count": 16,
   "id": "601478a1",
   "metadata": {},
   "outputs": [],
   "source": [
    "#  define if Anagram with string params\n",
    "## determine if length of string is not equal to length of string b\n",
    "### return false if not equal\n",
    "\n",
    "# push dictionary into empty dictionary\n",
    "\n",
    "# for loop in range of length of string\n",
    "## if string  in dictionary.key()\n",
    "### dictionary with a param of string +=1\n",
    "\n",
    "# else repeat\n",
    "\n",
    "# return if dictionaries are equal\n",
    "\n",
    "def is_anagram(string1, string2):\n",
    "    if len(string1) != len(string2):\n",
    "        return False\n",
    "    dict1 = {}\n",
    "    dict2 = {}\n",
    "    \n",
    "    for i in range(len(string1)):\n",
    "        if string1[i] in dict1.keys():\n",
    "            dict1[string1[i]] += 1\n",
    "        else:\n",
    "            dict1[string1[i]] =1\n",
    "        \n",
    "        if string2[i] in dict2.keys():\n",
    "            dict2[string2[i]] += 1\n",
    "        \n",
    "        else:\n",
    "            dict2[string2[i]] = 1\n",
    "            \n",
    "    return dict1 == dict2\n",
    "            \n"
   ]
  },
  {
   "cell_type": "code",
   "execution_count": 17,
   "id": "e1fd5931",
   "metadata": {},
   "outputs": [
    {
     "data": {
      "text/plain": [
       "True"
      ]
     },
     "execution_count": 17,
     "metadata": {},
     "output_type": "execute_result"
    }
   ],
   "source": [
    "is_anagram(\"earth\", \"heart\")"
   ]
  },
  {
   "cell_type": "code",
   "execution_count": 18,
   "id": "e1c60698",
   "metadata": {},
   "outputs": [
    {
     "data": {
      "text/plain": [
       "True"
      ]
     },
     "execution_count": 18,
     "metadata": {},
     "output_type": "execute_result"
    }
   ],
   "source": [
    "is_anagram(\"bat\",\"tab\")"
   ]
  },
  {
   "cell_type": "code",
   "execution_count": null,
   "id": "01c8a2fe",
   "metadata": {},
   "outputs": [],
   "source": []
  }
 ],
 "metadata": {
  "kernelspec": {
   "display_name": "Python 3 (ipykernel)",
   "language": "python",
   "name": "python3"
  },
  "language_info": {
   "codemirror_mode": {
    "name": "ipython",
    "version": 3
   },
   "file_extension": ".py",
   "mimetype": "text/x-python",
   "name": "python",
   "nbconvert_exporter": "python",
   "pygments_lexer": "ipython3",
   "version": "3.8.10"
  }
 },
 "nbformat": 4,
 "nbformat_minor": 5
}
